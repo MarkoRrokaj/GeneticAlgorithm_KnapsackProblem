{
 "cells": [
  {
   "cell_type": "markdown",
   "metadata": {
    "tags": []
   },
   "source": [
    "### University of Stirling\n",
    "#### Computing Science and Mathematics\n",
    "#### CSCU9YE - Artificial Intelligence\n",
    "#### Student Number: 2838655\n",
    "\n",
    "# Coursework: The Multi-dimensional Knapsack Problem"
   ]
  },
  {
   "cell_type": "markdown",
   "metadata": {
    "tags": []
   },
   "source": [
    "## Aquiring the problem data\n",
    "\n",
    "-  This function reads the data of a given problem instance\n",
    "-  It returns four variables in the the following order, using the variable names as in the mathematical formulation described in the coursework\n",
    "    - *n*: number of items, \n",
    "    - *m*: number of constraints\n",
    "    - *p*: one dimensional numpy array with the profit coefficients for each item \n",
    "    - *r*: two dimensional numpy array with the resource coefficients for each item on each constraint/resource\n",
    "    - *b*: one dimensional numpy array with the constraints right-hand size, that is the bounds or capacities \n"
   ]
  },
  {
   "cell_type": "code",
   "execution_count": 1,
   "metadata": {
    "tags": []
   },
   "outputs": [],
   "source": [
    "import numpy as np\n",
    "\n",
    "def read_multi_knapsack(fname):\n",
    "    \"\"\"\n",
    "    Reads the data of a multi-knapsack instance\n",
    "\n",
    "    :param fname: file name with instance data\n",
    "    :return: n, m, p, r and b (as described above)\n",
    "    \"\"\" \n",
    "    profits = []\n",
    "    with open(fname, 'r') as kfile:\n",
    "        lines = kfile.readlines()\n",
    "        \n",
    "    # convert m,n  to integer variables   \n",
    "    n, m  = [int(d) for d in lines[0].split()]   # convert string data to integers\n",
    "        \n",
    "    input_line_cnt = 1    # input lines index after first line\n",
    "    p = np.empty(0, dtype=np.int64)\n",
    "    while p.size < n:\n",
    "        d = np.loadtxt(lines[input_line_cnt].split(),\n",
    "                       delimiter=\" \", dtype=np.int64)\n",
    "        p = np.append(p, d)\n",
    "        input_line_cnt += 1\n",
    "\n",
    "    r = np.empty((0, n), dtype=np.int64)\n",
    "    for i in range(m):\n",
    "        lin = np.empty(0, dtype=np.int64)\n",
    "        while lin.size < n:\n",
    "            d = np.loadtxt(lines[input_line_cnt].split(),\n",
    "                           delimiter=\" \", dtype=np.int64)\n",
    "            lin = np.append(lin, d)\n",
    "            input_line_cnt += 1\n",
    "        r = np.vstack((r, lin))\n",
    "\n",
    "    # get the capacities (max of one line space separated integer values)\n",
    "    b = np.loadtxt(lines[input_line_cnt].split(),\n",
    "                     delimiter=\" \", dtype=np.int64)\n",
    "\n",
    "    return  n, m, p, r, b\n"
   ]
  },
  {
   "cell_type": "code",
   "execution_count": 2,
   "metadata": {},
   "outputs": [
    {
     "name": "stdout",
     "output_type": "stream",
     "text": [
      "Instance Data:\n",
      "n: 40.  m: 5\n",
      "Profits: [360  83  59 130 431  67 230  52  93 125 670 892 600  38  48 147  78 256\n",
      "  63  17 120 164 432  35  92 110  22  42  50 323 514  28  87  73  78  15\n",
      "  26  78 210  36]\n",
      "Resources: [[ 7  0 30 22 80 94 11 81 70 64 59 18  0 36  3  8 15 42  9  0 42 47 52 32\n",
      "  26 48 55  6 29 84  2  4 18 56  7 29 93 44 71  3]\n",
      " [ 8 66 98 50  0 30  0 88 15 37 26 72 61 57 17 27 83  3  9 66 97 42  2 44\n",
      "  71 11 25 74 90 20  0 38 33 14  9 23 12 58  6 14]\n",
      " [ 3 74 88 50 55 19  0  6 30 62 17 81 25 46 67 28 36  8  1 52 19 37 27 62\n",
      "  39 84 16 14 21  5 60 82 72 89 16  5 29  7 80 97]\n",
      " [21 40  0  6 82 91 43 30 62 91 10 41 12  4 80 77 98 50 78 35  7  1 96 67\n",
      "  85  4 23 38  2 57  4 53  0 33  2 25 14 97 87 42]\n",
      " [94 86 80 92 31 17 65 51 46 66 44  3 26  0 39 20 11  6 55 70 11 75 82 35\n",
      "  47 99  5 14 23 38 94 66 64 27 77 50 28 25 61 10]]\n",
      "Capacities: [ 480  760  800 1180  940]\n"
     ]
    }
   ],
   "source": [
    "## Reading data from a file\n",
    "\n",
    "data_file_name = \"multi_knap_n40_m5.txt\"        \n",
    "\n",
    "n, m, profits, res, cap = read_multi_knapsack(data_file_name)\n",
    "\n",
    "print(\"Instance Data:\")\n",
    "print(f\"n: {n}.  m: {m}\")\n",
    "print(f\"Profits: {profits}\")\n",
    "print(f\"Resources: {res}\")\n",
    "print(f\"Capacities: {cap}\")"
   ]
  },
  {
   "cell_type": "markdown",
   "metadata": {},
   "source": [
    "# Part 1: Simple Hill-Climbing \n",
    "This greedy heuristic method examines the neighboring nodes one by one and selects the first neighboring node which optimizes the current cost as the next node.\n"
   ]
  },
  {
   "cell_type": "code",
   "execution_count": 3,
   "metadata": {
    "collapsed": false,
    "jupyter": {
     "outputs_hidden": false
    },
    "pycharm": {
     "name": "#%%\n"
    }
   },
   "outputs": [],
   "source": [
    "#Implement a suitable fitness function for this problem.\n",
    "\n",
    "import random as rnd\n",
    "\n",
    "def random_sol(l, prop):\n",
    "    \"Generates a random binary vector of lenght l, and proportions of 0 and 1s as indicated in the prop vector\"\n",
    "    sol = rnd.choices([0,1], weights = prop, k = l)  # Random solution elements giving different bias to zeros and ones\n",
    "    return sol"
   ]
  },
  {
   "cell_type": "markdown",
   "metadata": {},
   "source": [
    "### Implement a function that  checks the validity  of a solution\n",
    "The soltionChecker function receives a solution as parameter and by iterating through it, generating a weight value consisting of the total resutling from the product between the solution and the resource array, which will then be tested against its respective value found in the capacity array with the same index.\n",
    "If the solution weight is greater then the constraint's capacity then the value returned is False, otherwise the function will return True, indicating the solution's validity. "
   ]
  },
  {
   "cell_type": "code",
   "execution_count": 4,
   "metadata": {
    "collapsed": false,
    "jupyter": {
     "outputs_hidden": false
    },
    "pycharm": {
     "name": "#%%\n"
    }
   },
   "outputs": [],
   "source": [
    "def solutionChecker(sol):\n",
    "    for i in range(len(cap)):\n",
    "        sol_weight = sum(sol[j] * res[i][j] for j in range(n)) # Sum solution to resource array to get weight of sol\n",
    "        if(sol_weight > cap[i]): # Compare it to capacity array\n",
    "            return False\n",
    "    return True"
   ]
  },
  {
   "cell_type": "markdown",
   "metadata": {},
   "source": [
    "### Implement a fitness  (evaluation) function.\n",
    "The function receives a solution as a parameter, which will be evaluated by multiplying the soultion array to the resources array, generating a weight value, which will be considered valid only if it does not excess the ones reported on the capacity array.\n",
    "If the solution is then considered, it will be assigned a fitness value, which consists of 0 if the weight value excesses the capacity value at their corrisponding indexes or otherwise will be composed by the product between the values found at index in the solution array and respectively in the profit array. \n"
   ]
  },
  {
   "cell_type": "code",
   "execution_count": 5,
   "metadata": {
    "pycharm": {
     "name": "#%%\n"
    },
    "tags": []
   },
   "outputs": [],
   "source": [
    "def evaluate(sol):\n",
    "    weightArray = [] # Initiate array which will store weights \n",
    "    for j in range(len(cap)): # Iterate through each constraint \n",
    "        weight = sum([sol[i] * res[j][i] for i in range(n)]) \n",
    "        if weight > cap[j]: # If result weight is greater than his correspective capacity constraint\n",
    "            fitness = 0 # Solution is not fit\n",
    "            break \n",
    "        else:\n",
    "            fitness = sum([sol[i] * profits[i] for i in range(n)])   \n",
    "            weightArray.append(weight) # Append weights to weightArray initiated previously\n",
    "    return fitness, weightArray "
   ]
  },
  {
   "cell_type": "code",
   "execution_count": 14,
   "metadata": {},
   "outputs": [
    {
     "name": "stdout",
     "output_type": "stream",
     "text": [
      "[0, 0, 0, 1, 0, 0, 0, 1, 1, 1, 0, 0, 1, 1, 0, 0, 0, 1, 0, 0, 0, 0, 0, 0, 0, 0, 0, 1, 1, 0, 0, 0, 0, 0, 0, 0, 1, 0, 0, 0]\n",
      "[ 480  760  800 1180  940]\n",
      "[443, 487, 291, 309, 352]\n",
      "Solution is : True\n"
     ]
    }
   ],
   "source": [
    "# SolutinChecker function testing\n",
    "\n",
    "sol = random_sol(n, [75,25])\n",
    "print(sol)\n",
    "solutionChecker(sol)\n",
    "print(cap)\n",
    "print(evaluate(sol)[1])\n",
    "print(\"Solution is :\", solutionChecker(sol))"
   ]
  },
  {
   "cell_type": "code",
   "execution_count": 15,
   "metadata": {
    "collapsed": false,
    "jupyter": {
     "outputs_hidden": false
    },
    "pycharm": {
     "name": "#%%\n"
    }
   },
   "outputs": [],
   "source": [
    "# Neighbour function which will receive a solution and return a neighbouring solution generated \n",
    "# by replace a random index with its contrary (if 0 -> 1, if 1 ->0)\n",
    "\n",
    "def neighbour(sol):\n",
    "    neig = sol[:] # Copy solution\n",
    "    i = rnd.randint(0,n-1) # Generate random number between 0 and (n - 1)\n",
    "    neig[i] = 0 if sol[i] == 1 else 1 # Alter digit in index i with its inverse  \n",
    "    return neig"
   ]
  },
  {
   "cell_type": "code",
   "execution_count": 16,
   "metadata": {},
   "outputs": [
    {
     "name": "stdout",
     "output_type": "stream",
     "text": [
      "[0, 0, 0, 0, 0, 1, 0, 0, 0, 1, 0, 0, 0, 0, 0, 0, 0, 1, 0, 0, 0, 0, 0, 0, 0, 0, 0, 1, 1, 1, 0, 0, 1, 0, 1, 0, 0, 1, 0, 0]\n",
      "[0, 0, 0, 0, 0, 0, 0, 0, 0, 1, 0, 0, 0, 0, 0, 0, 0, 1, 0, 0, 0, 0, 0, 0, 0, 0, 0, 1, 1, 1, 0, 0, 1, 0, 1, 0, 0, 1, 0, 0]\n"
     ]
    }
   ],
   "source": [
    "# Neighbour function testing\n",
    "\n",
    "sol = random_sol(n, [75,25])\n",
    "print(sol)\n",
    "print(neighbour(sol))"
   ]
  },
  {
   "cell_type": "markdown",
   "metadata": {},
   "source": [
    "### Implementation of simple hill-climbing search method"
   ]
  },
  {
   "cell_type": "code",
   "execution_count": 17,
   "metadata": {
    "collapsed": false,
    "jupyter": {
     "outputs_hidden": false
    },
    "pycharm": {
     "name": "#%%%\n"
    }
   },
   "outputs": [],
   "source": [
    "def hill_climbing_trace(maxiter):\n",
    "    trace = [] # Array used to append every step taken during the Hill-Climbing process\n",
    "    solution = random_sol(n,[75,25]) # Generate random solution\n",
    "    value, weight = evaluate(solution)\n",
    "    trace.append(value)  # Append first valued obtained in trace array\n",
    "    for i in range (maxiter):\n",
    "        new_sol = neighbour(solution)\n",
    "        if solutionChecker(new_sol): # Check if solution is valid \n",
    "            new_val, new_weight = evaluate(new_sol)\n",
    "            if new_val >= value: # Check if new fitness value is greater than previous and if so replace all valuez\n",
    "                value = new_val \n",
    "                weight = new_weight\n",
    "                solution = new_sol[:]\n",
    "                trace.append(value) # Add the improvements to trace array\n",
    "    return value, weight, solution, trace"
   ]
  },
  {
   "cell_type": "code",
   "execution_count": 18,
   "metadata": {},
   "outputs": [
    {
     "data": {
      "image/png": "[encoded data removed]",
      "text/plain": [
       "<Figure size 432x288 with 1 Axes>"
      ]
     },
     "metadata": {
      "needs_background": "light"
     },
     "output_type": "display_data"
    }
   ],
   "source": [
    "import matplotlib\n",
    "import matplotlib.pyplot as plt\n",
    "\n",
    "value, weight, sol, t = hill_climbing_trace(100) \n",
    "\n",
    "# print(t) # Trace values sorted in ascending way\n",
    "plt.plot(t);\n",
    "plt.title('Trace hill-climbing ')\n",
    "plt.ylabel('Value')\n",
    "plt.xlabel('Improving Steps')\n",
    "plt.show()"
   ]
  },
  {
   "cell_type": "code",
   "execution_count": 24,
   "metadata": {},
   "outputs": [
    {
     "name": "stdout",
     "output_type": "stream",
     "text": [
      "Hill Climbing\n",
      "Profit : 2246\n",
      "Capacity    : [ 480  760  800 1180  940]\n",
      "Constraints : [479, 466, 731, 716, 850]\n",
      "Solution : [1, 1, 0, 0, 0, 0, 0, 0, 1, 0, 0, 0, 1, 0, 1, 1, 0, 0, 0, 1, 0, 0, 1, 0, 0, 1, 1, 0, 0, 0, 0, 1, 0, 1, 1, 1, 1, 1, 0, 1]\n",
      "Running time in seconds: 0.01\n"
     ]
    }
   ],
   "source": [
    "import time\n",
    "\n",
    "start = time.time()\n",
    "value, weight, sol, t = hill_climbing_trace(100)\n",
    "end = time.time()\n",
    "\n",
    "print(\"Hill Climbing\")\n",
    "print(\"Profit : {}\".format(value))\n",
    "print(\"Capacity    : {}\".format(cap))\n",
    "print(\"Constraints : {}\".format(weight))\n",
    "print(\"Solution : {}\".format(sol))\n",
    "print(f\"Running time in seconds: {(end - start):.2f}\")\n",
    "\n",
    "# n_iter = 50\n",
    "# n_arr = []\n",
    "\n",
    "# for i in range(n_iter):\n",
    "#     value, weight, sol, t = hill_climbing_trace(100)\n",
    "#     n_arr.append(value)\n",
    "\n",
    "# n_arr.sort()\n",
    "# print(n_arr)"
   ]
  },
  {
   "cell_type": "markdown",
   "metadata": {},
   "source": [
    "Sometimes, when run, the algorithm encounters as its first value a local maxima which is a common issue found in hill-climbing algorithm. This problem could be partially solved by using some type of rerstart."
   ]
  },
  {
   "cell_type": "markdown",
   "metadata": {
    "tags": []
   },
   "source": [
    "# Part 2 - Algorithm of your choice \n",
    "\n",
    "A genetic algorithm is a method used for solving constrained optimization problems based on a natural selection process that simulates biological evolution. <br>The algorithm repeatedly modifies an initially randomly generated population of individual solutions, shaped by a set of operators (mutation, crossover, selection).\n",
    "\n",
    "The Multi-Knapsack problem is a problem in combinatorial optimization which implies that finding an exact solution given a vast space state to investigate might be rather problematic. This issue is addressed by the use of heuristics methods, which usually provide a good approximation of the optimal solution in a fraction of the time. <br> Hence, evolutionary algorithms, such as genetic algorithms or even ant-colony optimization represent a perfect tool to tackle such problem and generate optimal solutions in a reasonable amount of time, given their roboustness and their ability to provide satisfactory optimisation over large space state, compared to other methods.\n",
    "\n",
    "\n",
    "## Create an Initial Population\n",
    "\n",
    "- Create a data structure for the population\n",
    "- A population is a list of individuals\n",
    "- An individial is an array with as first component contains a solution vector and its second component a fitness value\n",
    "- By sorting the population based on fitness in ascending order the placement at index 0 of the array of lower fitness individuals will happen automatically"
   ]
  },
  {
   "cell_type": "code",
   "execution_count": 25,
   "metadata": {},
   "outputs": [],
   "source": [
    "# Create individuals\n",
    "\n",
    "def create_individual():\n",
    "    \"Creates an individual as a list of two elements: solution and its fitness\"\n",
    "    sol = random_sol(n, [60,40]) # 60% 0s, and 40% 1s\n",
    "    fit, w = evaluate(sol)\n",
    "    return [sol, fit]"
   ]
  },
  {
   "cell_type": "code",
   "execution_count": 26,
   "metadata": {},
   "outputs": [],
   "source": [
    "# Create population\n",
    "\n",
    "def create_population(pop_size):\n",
    "    \"Creates an initial population of pop_size randomly generated individuals\"\n",
    "    pop = [] # Create an empty list \n",
    "    pop = [create_individual() for i in range(pop_size)]\n",
    "    pop.sort(key = lambda x: x[1])  #key is set to sort using second element (Fitness) \n",
    "    return pop"
   ]
  },
  {
   "cell_type": "code",
   "execution_count": 27,
   "metadata": {},
   "outputs": [],
   "source": [
    "# Mutation function which receives a solution and based on a generated random integer, changes its index element to its inverse. (if 0 -> 1 & if 1 -> 0) \n",
    "# Similar to a bit-flip operator\n",
    "\n",
    "def mutation(sol):  \n",
    "    mutant = sol[:] # copy solution\n",
    "    i = rnd.randint(0,n-1) \n",
    "    mutant[i] = 0 if mutant[i] == 1 else 1  # alter position i if 0 assign 1, else assign 1\n",
    "    return mutant"
   ]
  },
  {
   "cell_type": "code",
   "execution_count": 29,
   "metadata": {},
   "outputs": [
    {
     "name": "stdout",
     "output_type": "stream",
     "text": [
      "Solution:  [0, 0, 0, 0, 1, 0, 0, 0, 0, 1, 0, 1, 1, 0, 0, 0, 1, 1, 0, 0, 0, 1, 1, 1, 0, 1, 1, 0, 1, 0, 0, 1, 0, 0, 1, 1, 0, 0, 0, 0]\n",
      "Mutant:    [0, 0, 0, 0, 1, 0, 0, 0, 0, 1, 0, 1, 1, 0, 0, 0, 1, 1, 0, 0, 0, 1, 1, 1, 0, 1, 1, 0, 1, 0, 0, 1, 0, 0, 1, 1, 0, 0, 0, 1]\n"
     ]
    }
   ],
   "source": [
    "# Testing the mutation operation\n",
    "sol =create_population(10)\n",
    "print(\"Solution: \", sol[2][0])\n",
    "mut = mutation(sol[2][0])\n",
    "print(\"Mutant:   \" , mut)"
   ]
  },
  {
   "cell_type": "markdown",
   "metadata": {},
   "source": [
    "#### Tournament Function\n",
    "The tournament selection function receives a population as parameter and an integer k, which represents the sample size, indicating consequentaly the number of individuals needed to be sampled.\n",
    "<br>\n",
    "Hence, the function will continue looping through the sample removing the every solution based on a tournament taking in consideration the fitness value, until the winner, the last individual left and therfore the one with highest fitness score of each tournament, is selected for crossover. \n",
    "\n",
    "Elitism selection could have been added to the algorithm, to retain the best individuals from a previous generation, and carried to the next one unmutated."
   ]
  },
  {
   "cell_type": "code",
   "execution_count": 30,
   "metadata": {},
   "outputs": [],
   "source": [
    "# Compares fitenss of k individuals in the population and returns the best of them\n",
    "import random as rnd\n",
    "\n",
    "def tournament(pop, k):\n",
    "    tour_pop = []\n",
    "    pop_sample = rnd.sample(pop, k) # Extract random sample of size k from parameter population\n",
    "    for i in range(k):\n",
    "        tour_pop.append(pop_sample[i]) # Add chosen solution to tournament array \n",
    "    while(len(tour_pop) != 1): # Iterate through array based on lenght until only last solution is left and perform tournaments \n",
    "        # Remove smaller solution based on value\n",
    "        if(tour_pop[0][1] > tour_pop[1][1]):\n",
    "            tour_pop.remove(tour_pop[1])\n",
    "        else:\n",
    "            tour_pop.remove(tour_pop[0])\n",
    "    return tour_pop[0][0] # Return best fitness value solution"
   ]
  },
  {
   "cell_type": "code",
   "execution_count": 32,
   "metadata": {},
   "outputs": [
    {
     "name": "stdout",
     "output_type": "stream",
     "text": [
      "[0, 0, 0, 0, 0, 0, 0, 1, 0, 0, 1, 0, 1, 0, 0, 1, 0, 1, 0, 0, 0, 0, 0, 0, 0, 0, 0, 0, 1, 1, 1, 0, 0, 1, 1, 1, 0, 0, 0, 0]\n"
     ]
    }
   ],
   "source": [
    "# Test the tournament function with a test_population created\n",
    "test_population = create_population(20)\n",
    "sample_size = 10\n",
    "print(tournament(test_population, sample_size))"
   ]
  },
  {
   "cell_type": "markdown",
   "metadata": {},
   "source": [
    "#### Crossover Functions\n",
    "Series of different crossover functions (single-point, multi-point, uniform)\n",
    "This functions receive two solutions as parameters, which are commonly referred as parents and based on the type of crossover perform a series of actions which aim to generate a better fit child as a product, promoting evolution.   \n",
    "\n",
    "Through experimentations single-point crossover and multi-point crossover seem to produce better suited individuals for the purpose compared to the uniform crossover, which generates individuals through a completely random process. "
   ]
  },
  {
   "cell_type": "code",
   "execution_count": 33,
   "metadata": {},
   "outputs": [],
   "source": [
    "# Perform a 1-point crossover between two parents solution, generating an evolved individual\n",
    "import random as rnd\n",
    "\n",
    "def single_crossover(p1, p2):  \n",
    "    length = len(p1)    \n",
    "    p = rnd.randint(1, length - 1) \n",
    "    child = p1[0:p] + p2[p:] # Select parent1 genes from 0 to p + Select parent2 genes from p to end \n",
    "    return child"
   ]
  },
  {
   "cell_type": "code",
   "execution_count": 34,
   "metadata": {},
   "outputs": [],
   "source": [
    "# Perform a random uniform crossover between two parents vectors, generating an evolved individual\n",
    "import random as rnd\n",
    "\n",
    "def uniform_crossover(p1, p2): \n",
    "    child = []\n",
    "    for i in range(len(p1)):\n",
    "        child.append(rnd.randint(0,1))\n",
    "    return child"
   ]
  },
  {
   "cell_type": "code",
   "execution_count": 35,
   "metadata": {},
   "outputs": [],
   "source": [
    "# Perform a multi-point crossover between two parents vectors, generating an evolved individual\n",
    "import random\n",
    "\n",
    "def multi_crossover(p1, p2): \n",
    "    child = [] # Initiate empty array which will store the final result\n",
    "    length = len(p1)\n",
    "    # Initiate crossover points\n",
    "    cp1 = 0\n",
    "    cp2 = 0\n",
    "    while(cp1 == cp2): # Check for validity of random generated values (cannot be equal, otherwise index error arises)\n",
    "        cp1 = random.randint(0, length) # Random crossover point #1\n",
    "        cp2 = random.randint(0, length) # Random crossover point #2\n",
    "    if cp1 > cp2:\n",
    "            # Select parent1 genes from index 0 to crossover point 2\n",
    "            child.append(p1[0:cp2] + p2[cp2:cp1] + p1[cp1:]) \n",
    "    if cp2 > cp1:\n",
    "            child.append(p1[0:cp1] + p2[cp1:cp2] + p1[cp2:])\n",
    "    return child"
   ]
  },
  {
   "cell_type": "code",
   "execution_count": 41,
   "metadata": {},
   "outputs": [
    {
     "name": "stdout",
     "output_type": "stream",
     "text": [
      "Parent - 1:         [0, 0, 0, 0, 1, 1, 0, 0, 0, 1, 0, 1, 0, 1, 0, 1, 1, 1, 1, 1, 0, 0, 0, 0, 0, 1, 1, 0, 0, 0, 0, 1, 0, 0, 0, 0, 0, 1, 0, 0]\n",
      "Parent - 2:         [0, 0, 1, 0, 0, 0, 1, 0, 1, 1, 0, 0, 1, 1, 0, 0, 0, 1, 1, 1, 1, 0, 0, 1, 0, 1, 0, 0, 1, 1, 1, 1, 0, 1, 0, 1, 0, 1, 0, 0]\n",
      "Single-Crossover:   [0, 0, 0, 0, 1, 1, 0, 0, 0, 1, 0, 1, 0, 1, 0, 1, 1, 1, 1, 1, 0, 0, 0, 0, 0, 1, 1, 0, 0, 0, 0, 1, 0, 0, 0, 1, 0, 1, 0, 0]\n",
      "Multi-Crossover:    [0, 0, 0, 0, 1, 1, 0, 0, 0, 1, 0, 1, 0, 1, 0, 0, 0, 1, 1, 1, 1, 0, 0, 0, 0, 1, 1, 0, 0, 0, 0, 1, 0, 0, 0, 0, 0, 1, 0, 0]\n",
      "Uniform-Crossover:  [1, 0, 1, 1, 1, 1, 1, 1, 0, 1, 0, 0, 0, 1, 0, 0, 0, 0, 1, 1, 1, 1, 1, 1, 0, 1, 1, 1, 0, 1, 0, 1, 1, 1, 1, 1, 0, 0, 1, 1]\n"
     ]
    }
   ],
   "source": [
    "# Testing the various crossover functions\n",
    "\n",
    "test_pop = create_population(10)\n",
    "parent1 = test_pop[1][0]\n",
    "parent2 = test_pop[3][0]\n",
    "print(\"Parent - 1:        \", parent1)\n",
    "print(\"Parent - 2:        \", parent2)\n",
    "print(\"Single-Crossover:  \",single_crossover(parent1, parent2))\n",
    "print(\"Multi-Crossover:   \",(multi_crossover(parent1, parent2))[0])\n",
    "print(\"Uniform-Crossover: \",uniform_crossover(parent1, parent2))"
   ]
  },
  {
   "cell_type": "markdown",
   "metadata": {},
   "source": [
    "# Genetic Algorithm :\n",
    "\n",
    "- maxiter     : Integer value which indicates how many times the algorithm has to iterate.\n",
    "- pop_size    : Integer value which consists of the population size to be created.\n",
    "- crossover   : String value which allows the selection of crossover operator between \"single_crossover\", \"multi_crossover\", \"uniform_crossover\" \n",
    "- sample_size : Integer value which allows the selection of desired sample size utilized in the tournament selection function.  \n",
    "\n",
    "\n",
    "\n",
    "The algorithm starts by initiating a population of individuals of size pop_size.\n",
    "<br>\n",
    "A trace array is also initialized, which will keep track of all the improvements gained throughout the various processes of the algorithm.\n",
    "<br>\n",
    "The body of the algorithm consists of a loop which executes various functions, which are aimed at the final goal of finding an optimal generation of individual. <br>Such functions are a tournament selection, which is followed by a crossover receiving two parent solutions as paramteres and generates an offspring solution, which will be than passed as a parameter to a mutation function. Once all these actions have been performed the resulting solution will be evaluated and finally checked to identify its validity.\n",
    "\n"
   ]
  },
  {
   "cell_type": "code",
   "execution_count": 42,
   "metadata": {},
   "outputs": [],
   "source": [
    "# Gentetic Algorithm\n",
    "import numpy as np\n",
    "\n",
    "def genetic_algorithm(maxiter, pop_size, crossover, sample_size):\n",
    "    trace = [] # to keep the trace of the improvements during the GA iterations \n",
    "    pop = create_population(pop_size)\n",
    "    #trace.append(pop[pop_size - 1][1]) # Add the best value (fitness) in the population\n",
    "    for i in range(maxiter):\n",
    "        # Perform tournament on 2 parents which will be passed as parameters for the crossover\n",
    "        parent1 = tournament(pop, sample_size)\n",
    "        parent2 = tournament(pop, sample_size)\n",
    "        # Choice of crossover operator based on user\n",
    "        if(crossover == \"single_crossover\"):\n",
    "            child = single_crossover(parent1, parent2) # Perform crossover\n",
    "        elif(crossover == \"multi_crossover\"):\n",
    "            child = multi_crossover(parent1, parent2)[0] # Perform crossover\n",
    "        elif(crossover == \"uniform_crossover\"):\n",
    "            child = uniform_crossover(parent1, parent2) # Perform crossover\n",
    "        child = mutation(child) # Perform mutation \n",
    "        if(solutionChecker(child)): # Check validity of solution\n",
    "            value, weight = evaluate(child) # Evaluate child solution only once validity was established\n",
    "            trace.append(value)\n",
    "            pop[0][0] = child # Add the mutated solution to population\n",
    "            pop[0][1] = value # Add the best value (fitness) in the population\n",
    "            pop.sort(key = lambda x: x[1]) # Sort population array based on values found in index 1 (fitness values)\n",
    "    trace.sort() \n",
    "    return pop[-1], trace # return last element in pop (best one) and trace array\n"
   ]
  },
  {
   "cell_type": "code",
   "execution_count": 43,
   "metadata": {},
   "outputs": [
    {
     "name": "stdout",
     "output_type": "stream",
     "text": [
      "Best Solution Found: 5534\n"
     ]
    },
    {
     "data": {
      "image/png": "[encoded data removed]",
      "text/plain": [
       "<Figure size 432x288 with 1 Axes>"
      ]
     },
     "metadata": {
      "needs_background": "light"
     },
     "output_type": "display_data"
    }
   ],
   "source": [
    "# Genetic Algorithm Testing and plot representation \n",
    "import matplotlib\n",
    "import matplotlib.pyplot as plt\n",
    "\n",
    "num_iter = 1400 # Number of times the algorithm will run for\n",
    "pop_size = 250 # Define the population size\n",
    "\n",
    "best_found, tr = genetic_algorithm(num_iter, pop_size, \"multi_crossover\", 12)\n",
    "print(\"Best Solution Found:\", best_found[1])\n",
    "# print(tr) # Trace array printer\n",
    "\n",
    "plt.plot(tr);\n",
    "plt.title('Trace Genetic Algorithm ')\n",
    "plt.ylabel('Value')\n",
    "plt.xlabel('Improving Steps')\n",
    "plt.show()"
   ]
  },
  {
   "cell_type": "code",
   "execution_count": 50,
   "metadata": {},
   "outputs": [
    {
     "name": "stdout",
     "output_type": "stream",
     "text": [
      "Genetic Algorithm\n",
      "Profit      : 5496\n",
      "Capacity    : [ 480  760  800 1180  940]\n",
      "Constraints : [476, 557, 768, 843, 937]\n",
      "Solution    : [1, 1, 0, 1, 1, 0, 1, 0, 0, 0, 1, 1, 1, 1, 1, 1, 1, 1, 1, 0, 0, 0, 1, 0, 0, 0, 0, 0, 0, 1, 1, 0, 1, 0, 1, 0, 0, 0, 0, 1]\n",
      "Running time in seconds: 0.34\n"
     ]
    }
   ],
   "source": [
    "# Time performance analysis of Genetic Algorithm for leaderboard\n",
    "\n",
    "import time\n",
    "\n",
    "start = time.time()\n",
    "best_found, tr = genetic_algorithm(1400, 250, \"multi_crossover\", 12)\n",
    "end = time.time()\n",
    "\n",
    "weightArray = []\n",
    "\n",
    "for i in range(len(cap)):\n",
    "    weight = sum([best_found[0][j] * res[i][j] for j in range(n)])\n",
    "    weightArray.append(weight)\n",
    "\n",
    "print(\"Genetic Algorithm\")\n",
    "print(\"Profit      : {}\".format(best_found[1]))\n",
    "print(\"Capacity    : {}\".format(cap))\n",
    "print(\"Constraints : {}\".format(weightArray))\n",
    "print(\"Solution    : {}\".format(best_found[0]))\n",
    "print(f\"Running time in seconds: {(end - start):.2f}\")\n",
    "\n",
    "# Optimal parameters found thorugh experimentation: \n",
    "# - pop_size = 250\n",
    "# - n_iterations = 1000\n",
    "# - tournament_size = 10\n",
    "# - 0/1 {60,40}"
   ]
  },
  {
   "cell_type": "markdown",
   "metadata": {},
   "source": [
    "# Part 3: Performance Comparison\n"
   ]
  },
  {
   "cell_type": "markdown",
   "metadata": {},
   "source": [
    "### Report plots and numeric comparison values:\n",
    "\n",
    "### File Name : \"multi_knap_n28_m2.txt\"\n",
    "\n",
    "##### Operator choices: \n",
    "- Population Size: By manipulating the population size, we are able increase computation time due to the size of the set the algorithm has to deal with, but it also increases the chances of founding an optimal solution. <br>\n",
    "Version 1 : Population Size = 120 <br>\n",
    "Version 2 : Population Size = 250\n",
    "- Crossover Type: By manipulating the crossover type we are able to generate different looking solutions, given the diverse method each crossover function uses to fabricate an offspring solution. <br>\n",
    "Version 1 : Crossover Type = Single Crossover <br>\n",
    "Version 2 : Crossover Type = Uniform Crossover\n",
    "- Tournament Selection Size: By manipulating the tournament size we are able to simply determine how many individuals will be selected to be part of each tournament, a good rule of thumb though is to include roughly 20% of your population in each generation, which for semplicity can be translated in finding the nearset power of 2. \n",
    "Version 1 : Tournament Size = 7 (since 2^7 = 126) <br>\n",
    "Version 2 : Tournament Size = 8 (since 2^8 = 256) \n",
    "\n",
    "The comparison was made fair by keeping the number of iteration exactly the same throughout the experiments, since it is one the most impactful parameters in terms of time complexity. The population size values are fairly handled by selecting a proportionally and suitable tournament size value, which will inevitably balance the discrepancies betweene the algoritmhs with regard to computational effort. "
   ]
  },
  {
   "cell_type": "code",
   "execution_count": 239,
   "metadata": {},
   "outputs": [
    {
     "data": {
      "image/png": "[encoded data removed]",
      "text/plain": [
       "<Figure size 432x288 with 1 Axes>"
      ]
     },
     "metadata": {
      "needs_background": "light"
     },
     "output_type": "display_data"
    },
    {
     "name": "stdout",
     "output_type": "stream",
     "text": [
      "Algorithm Version1\n",
      "Avarage/Mean:       126217.2\n",
      "Standard Deviation: 3483.263\n",
      "\n",
      "\n",
      "Algorithm Version2\n",
      "Avarage/Mean:       113447.86\n",
      "Standard Deviation: 3905.5862\n"
     ]
    }
   ],
   "source": [
    "from matplotlib import pyplot as plt\n",
    "import numpy as np\n",
    "\n",
    "data_file_name = \"multi_knap_n28_m2.txt\"        \n",
    "n, m, profits, res, cap = read_multi_knapsack(data_file_name)\n",
    "\n",
    "n_iter = 50\n",
    "version_1 = []\n",
    "version_2 = []\n",
    "steps = []\n",
    "\n",
    "for i in range(n_iter):\n",
    "    solution_v1, tr_v1 = genetic_algorithm(1000, 120, \"single_crossover\", 7) # Run GA for version 1\n",
    "    solution_v2, tr_v2 = genetic_algorithm(1000, 250, \"uniform_crossover\", 8) # Run GA for version 2\n",
    "    # Append solutions found through the iterations to the respective arrays\n",
    "    version_1.append(solution_v1[1])\n",
    "    version_2.append(solution_v2[1])\n",
    "    # Create array which represents the x-axis in the plot and append the # of iterations\n",
    "    steps.append(i + 1) \n",
    "version_1.sort()\n",
    "version_2.sort()\n",
    "# print(version_1)\n",
    "# print(version_2)\n",
    "# print(iteration_array)\n",
    "\n",
    "plt.plot(steps, version_1, label='Version 1')\n",
    "plt.plot(steps, version_2, label='Version 2')\n",
    "plt.title('Genetic Algorithms Comparison')\n",
    "plt.ylabel('Fitness Values')\n",
    "plt.xlabel('Improving Steps')\n",
    "plt.legend()\n",
    "plt.show()\n",
    "\n",
    "# Version 1\n",
    "print(\"Algorithm Version1\")\n",
    "print(\"Avarage/Mean:      \", np.mean(version_1, dtype = np.float32))\n",
    "print(\"Standard Deviation:\", np.std(version_1, dtype = np.float32))\n",
    "print(\"\\n\")\n",
    "# Version 2\n",
    "print(\"Algorithm Version2\")\n",
    "print(\"Avarage/Mean:      \", np.mean(version_2, dtype = np.float32))\n",
    "print(\"Standard Deviation:\", np.std(version_2, dtype = np.float32))"
   ]
  },
  {
   "cell_type": "markdown",
   "metadata": {},
   "source": [
    "### Report plots and numeric comparison values:\n",
    "\n",
    "### File Name : \"multi_knap_n40_m5.txt\"\n",
    "\n",
    "##### Operator choices: \n",
    "- Population Size: By manipulating the population size, we are able increase computation time due to the size of the set the algorithm has to deal with, but it also increases the chances of founding an optimal solution. <br>\n",
    "Version 1 : Population Size = 250 <br>\n",
    "Version 2 : Population Size = 512\n",
    "- Crossover Type: By manipulating the crossover type we are able to generate different looking solutions, given the diverse method each crossover function uses to fabricate an offspring solution. <br>\n",
    "Version 1 : Crossover Type = Mutliple Crossover <br>\n",
    "Version 2 : Crossover Type = Single Crossover\n",
    "- Tournament Selection Size: By manipulating the tournament size we are able to simply determine how many individuals will be selected to be part of each tournament, a good rule of thumb though is to include roughly 20% of your population in each generation, which for semplicity can be translated in finding the nearset power of 2. \n",
    "Version 1 : Tournament Size = 7 (since 2^7 = 256) <br>\n",
    "Version 2 : Tournament Size = 9 (since 2^9 = 512) \n",
    "\n",
    "The comparison was made fair by keeping the number of iteration exactly the same throughout the experiments, since it is one the most impactful parameters in terms of time complexity. The population size values are fairly handled by selecting a proportionally and suitable tournament size value, which will inevitably balance the discrepancies betweene the algoritmhs with regard to computational effort. \n",
    "<br> \n",
    "The operator that provoked such a drastic change in the first experiment was the crossover function. The uniform crossover does not suit the purpose since it considerably decreases the efficency of the algorithm. Therefore by changing the crossover type from uniform to single-point we can see an improvement in performance, however still unmatching the multi-point crossover. "
   ]
  },
  {
   "cell_type": "code",
   "execution_count": 240,
   "metadata": {},
   "outputs": [
    {
     "data": {
      "image/png": "[encoded data removed]",
      "text/plain": [
       "<Figure size 432x288 with 1 Axes>"
      ]
     },
     "metadata": {
      "needs_background": "light"
     },
     "output_type": "display_data"
    },
    {
     "name": "stdout",
     "output_type": "stream",
     "text": [
      "Algorithm Version1\n",
      "Avarage/Mean:       5449.22\n",
      "Standard Deviation: 63.48048\n",
      "\n",
      "\n",
      "Algorithm Version2\n",
      "Avarage/Mean:       5351.5\n",
      "Standard Deviation: 81.95859\n"
     ]
    }
   ],
   "source": [
    "from matplotlib import pyplot as plt\n",
    "import numpy as np\n",
    "\n",
    "data_file_name = \"multi_knap_n40_m5.txt\"        \n",
    "n, m, profits, res, cap = read_multi_knapsack(data_file_name)\n",
    "\n",
    "n_iter = 50\n",
    "version_1 = []\n",
    "version_2 = []\n",
    "steps = []\n",
    "\n",
    "for i in range(n_iter):\n",
    "    solution_v1, tr_v1 = genetic_algorithm(1400, 250, \"multi_crossover\", 7) # Run GA for version 1\n",
    "    solution_v2, tr_v2 = genetic_algorithm(1400, 512, \"single_crossover\", 9) # Run GA for version 2\n",
    "    # Append solutions found through the iterations to the respective arrays\n",
    "    version_1.append(solution_v1[1])\n",
    "    version_2.append(solution_v2[1])\n",
    "    # Create array which represents the x-axis in the plot and append the # of iterations\n",
    "    steps.append(i + 1) \n",
    "version_1.sort()\n",
    "version_2.sort()\n",
    "# print(version_1)\n",
    "# print(version_2)\n",
    "# print(iteration_array)\n",
    "\n",
    "plt.plot(steps, version_1, label='Version 1')\n",
    "plt.plot(steps, version_2, label='Version 2')\n",
    "plt.title('Genetic Algorithms Comparison')\n",
    "plt.ylabel('Fitness Values')\n",
    "plt.xlabel('Improving Steps')\n",
    "plt.legend()\n",
    "plt.show()\n",
    "\n",
    "# Version 1\n",
    "print(\"Algorithm Version1\")\n",
    "print(\"Avarage/Mean:      \", np.mean(version_1, dtype = np.float32))\n",
    "print(\"Standard Deviation:\", np.std(version_1, dtype = np.float32))\n",
    "print\n",
    "print(\"\\n\")\n",
    "# Version 2\n",
    "print(\"Algorithm Version2\")\n",
    "print(\"Avarage/Mean:      \", np.mean(version_2, dtype = np.float32))\n",
    "print(\"Standard Deviation:\", np.std(version_2, dtype = np.float32))"
   ]
  }
 ],
 "metadata": {
  "kernelspec": {
   "display_name": "Python 3 (ipykernel)",
   "language": "python",
   "name": "python3"
  },
  "language_info": {
   "codemirror_mode": {
    "name": "ipython",
    "version": 3
   },
   "file_extension": ".py",
   "mimetype": "text/x-python",
   "name": "python",
   "nbconvert_exporter": "python",
   "pygments_lexer": "ipython3",
   "version": "3.9.12"
  },
  "vscode": {
   "interpreter": {
    "hash": "7812ea015bdcee6f23a998adcdd2ef97c151c0c241b7b7070987d9313e41299d"
   }
  }
 },
 "nbformat": 4,
 "nbformat_minor": 4
}
